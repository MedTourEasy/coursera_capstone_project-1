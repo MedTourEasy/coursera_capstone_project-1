{
    "nbformat_minor": 1, 
    "cells": [
        {
            "source": "Segmenation and Clustering Neighbourhoods in city of Toronto, Canada", 
            "cell_type": "markdown", 
            "metadata": {
                "collapsed": true
            }
        }, 
        {
            "source": "from bs4 import BeautifulSoup\nimport requests\n\n\n#Parse wiki data using BeautifulSoup\nurl = \"https://en.wikipedia.org/wiki/List_of_postal_codes_of_Canada:_M\"\nsource = requests.get(url).text\nsoup = BeautifulSoup(source,'lxml')\n\n\n# Now find the first table\nfirst_table = soup.find('table')\n#Find all \"td\" tags\ncolumns = first_table.find_all('td')\n\ncount = len(columns)\n\nPostcode = []\nBorough = []\nNeighborhood = []\n\nfor index in range(0, count, 3):\n    Postcode.append(columns[index].text.strip())\n    Borough.append(columns[index+1].text.strip())\n    Neighborhood.append(columns[index+2].text.strip())\n\n    \n#Remove duplicates\nunique_p = set(Postcode)\nprint('num of unique Postal codes:', len(unique_p))\nPostcode_u      = []\nBorough_u       = []\nNeighborhood_u = []\n\n\nfor postcode_unique_element in unique_p:\n    p_var = ''; b_var = ''; n_var = ''; \n    for postcode_idx, postcode_element in enumerate(Postcode):\n        if postcode_unique_element == postcode_element:\n            p_var = postcode_element;\n            b_var = Borough[postcode_idx]\n            if n_var == '': \n                n_var = Neighborhood[postcode_idx]\n            else:\n                n_var = n_var + ', ' + Neighborhood[postcode_idx]\n    Postcode_u.append(p_var)\n    Borough_u.append(b_var)\n    Neighborhood_u.append(n_var)", 
            "cell_type": "code", 
            "metadata": {}, 
            "outputs": [], 
            "execution_count": 31
        }, 
        {
            "source": "#Create DataFrame\nimport pandas as pd\n\ndf = pd.DataFrame(data=[Postcode_u, Borough_u, Neighborhood_u]).transpose()\ndf.columns = [\"Postcode\", \"Borough\", \"Neighborhood\"]\n\n# Clean data\n# Drop the column if Borough is Not assigned\ndf.drop(df[df[\"Borough\"] == \"Not assigned\"].index, inplace=True)\ndf.loc[df.Neighborhood == \"Not assigned\", \"Neighborhood\"] = df.Borough\n\ndf.shape", 
            "cell_type": "code", 
            "metadata": {}, 
            "outputs": [
                {
                    "output_type": "execute_result", 
                    "data": {
                        "text/plain": "(102, 3)"
                    }, 
                    "execution_count": 32, 
                    "metadata": {}
                }
            ], 
            "execution_count": 32
        }, 
        {
            "source": "\n", 
            "cell_type": "code", 
            "metadata": {
                "scrolled": true
            }, 
            "outputs": [], 
            "execution_count": null
        }, 
        {
            "source": "", 
            "cell_type": "code", 
            "metadata": {}, 
            "outputs": [], 
            "execution_count": null
        }
    ], 
    "metadata": {
        "kernelspec": {
            "display_name": "Python 3.5", 
            "name": "python3", 
            "language": "python"
        }, 
        "language_info": {
            "mimetype": "text/x-python", 
            "nbconvert_exporter": "python", 
            "version": "3.5.5", 
            "name": "python", 
            "file_extension": ".py", 
            "pygments_lexer": "ipython3", 
            "codemirror_mode": {
                "version": 3, 
                "name": "ipython"
            }
        }
    }, 
    "nbformat": 4
}